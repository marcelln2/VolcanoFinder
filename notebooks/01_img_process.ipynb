{
 "cells": [
  {
   "cell_type": "code",
   "id": "initial_id",
   "metadata": {
    "collapsed": true,
    "ExecuteTime": {
     "end_time": "2025-08-15T09:11:06.278466Z",
     "start_time": "2025-08-15T09:11:06.276583Z"
    }
   },
   "source": [
    "# Slice each image into multiple 128*128 images to classify certain terrain types\n",
    "import cv2 as cv"
   ],
   "outputs": [],
   "execution_count": 3
  },
  {
   "metadata": {
    "ExecuteTime": {
     "end_time": "2025-08-15T09:11:06.532431Z",
     "start_time": "2025-08-15T09:11:06.284774Z"
    }
   },
   "cell_type": "code",
   "source": [
    "def img_crop(path, output_path, prefix):\n",
    "    img = cv.imread(path)\n",
    "    if img is None:\n",
    "        print(f\"Can't find {path}\")\n",
    "        return\n",
    "    loop_height = img.shape[0] // 128\n",
    "    loop_width = img.shape[1] // 128\n",
    "    for mp in range(loop_height * loop_width):\n",
    "        row = mp // loop_width\n",
    "        col = mp % loop_width\n",
    "\n",
    "        y_start = row * 128\n",
    "        y_end = y_start + 128\n",
    "        x_start = col * 128\n",
    "        x_end = x_start + 128\n",
    "\n",
    "        cropped = img[y_start:y_end, x_start:x_end]\n",
    "        cv.imwrite(f'{output_path}/{prefix}_{mp}.jpg', cropped)\n",
    "\n",
    "# for i in range(1, 7):\n",
    "#    img_crop(f'C:/Users/spec/Documents/py/projects/VolcanoFinder/data/raw/volcanoes/{i}volcano.jpg',\n",
    "#             f'C:/Users/spec/Documents/py/projects/VolcanoFinder/data/train/volcanoes', prefix=i)\n",
    "\n",
    "# for i in range(1, 6):\n",
    "#     img_crop(f'C:/Users/spec/Documents/py/projects/VolcanoFinder/data/raw/not_volcanoes/{i}nv.jpg',\n",
    "#              f'C:/Users/spec/Documents/py/projects/VolcanoFinder/data/train/not_volcanoes', prefix=i)\n",
    "\n",
    "for i in range(1, 6):\n",
    "    img_crop(f'C:/Users/spec/Documents/programming/projects/VolcanoFinder/data/raw/not_volcanoes/{i}nv.jpg',\n",
    "             f'C:/Users/spec/Documents/programming/projects/VolcanoFinder/data/new', prefix=i)"
   ],
   "id": "f1d3e0a234026a98",
   "outputs": [],
   "execution_count": 4
  },
  {
   "metadata": {
    "ExecuteTime": {
     "end_time": "2025-08-15T09:11:06.540327Z",
     "start_time": "2025-08-15T09:11:06.539230Z"
    }
   },
   "cell_type": "code",
   "source": "",
   "id": "c7287d5f570bf9a3",
   "outputs": [],
   "execution_count": null
  }
 ],
 "metadata": {
  "kernelspec": {
   "display_name": "Python 3",
   "language": "python",
   "name": "python3"
  },
  "language_info": {
   "codemirror_mode": {
    "name": "ipython",
    "version": 2
   },
   "file_extension": ".py",
   "mimetype": "text/x-python",
   "name": "python",
   "nbconvert_exporter": "python",
   "pygments_lexer": "ipython2",
   "version": "2.7.6"
  }
 },
 "nbformat": 4,
 "nbformat_minor": 5
}
